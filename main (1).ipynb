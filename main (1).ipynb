{
 "cells": [
  {
   "cell_type": "code",
   "execution_count": 3,
   "id": "9c42a706-0b77-4c43-9992-99f8c5a79d80",
   "metadata": {},
   "outputs": [
    {
     "name": "stdout",
     "output_type": "stream",
     "text": [
      "Requirement already satisfied: openrouteservice in d:\\appsamah\\anaconda\\lib\\site-packages (2.3.3)\n",
      "Requirement already satisfied: geopy in d:\\appsamah\\anaconda\\lib\\site-packages (2.4.1)\n",
      "Requirement already satisfied: requests>=2.0 in c:\\users\\sama7h\\appdata\\roaming\\python\\python312\\site-packages (from openrouteservice) (2.32.3)\n",
      "Requirement already satisfied: geographiclib<3,>=1.52 in d:\\appsamah\\anaconda\\lib\\site-packages (from geopy) (2.0)\n",
      "Requirement already satisfied: charset-normalizer<4,>=2 in c:\\users\\sama7h\\appdata\\roaming\\python\\python312\\site-packages (from requests>=2.0->openrouteservice) (3.3.2)\n",
      "Requirement already satisfied: idna<4,>=2.5 in c:\\users\\sama7h\\appdata\\roaming\\python\\python312\\site-packages (from requests>=2.0->openrouteservice) (3.7)\n",
      "Requirement already satisfied: urllib3<3,>=1.21.1 in c:\\users\\sama7h\\appdata\\roaming\\python\\python312\\site-packages (from requests>=2.0->openrouteservice) (2.2.2)\n",
      "Requirement already satisfied: certifi>=2017.4.17 in c:\\users\\sama7h\\appdata\\roaming\\python\\python312\\site-packages (from requests>=2.0->openrouteservice) (2024.7.4)\n"
     ]
    },
    {
     "name": "stderr",
     "output_type": "stream",
     "text": [
      "\n",
      "[notice] A new release of pip is available: 24.2 -> 25.1.1\n",
      "[notice] To update, run: python.exe -m pip install --upgrade pip\n"
     ]
    }
   ],
   "source": [
    "!pip install openrouteservice geopy"
   ]
  },
  {
   "cell_type": "code",
   "execution_count": null,
   "id": "21596296-072f-407e-b93c-b59c46b71e60",
   "metadata": {},
   "outputs": [
    {
     "name": "stdin",
     "output_type": "stream",
     "text": [
      "Enter user name:  samah\n",
      "Enter current time (e.g. 03:00 PM):  03:00 PM\n",
      "Enter meeting time (e.g. 03:30 PM):  03:15 PM\n",
      "Enter user location:  Diarb Negm\n",
      "Enter meeting location:  zagazig\n"
     ]
    },
    {
     "name": "stdout",
     "output_type": "stream",
     "text": [
      "samah: delay (5 minutes late)\n"
     ]
    },
    {
     "name": "stdin",
     "output_type": "stream",
     "text": [
      "Add another user? (yes/no):  yes\n",
      "Enter user name:  samah\n",
      "Enter current time (e.g. 03:00 PM):  03:00 PM\n",
      "Enter meeting time (e.g. 03:30 PM):  03:15 PM\n",
      "Enter user location:  03\n",
      "Enter meeting location:  \n"
     ]
    },
    {
     "name": "stdout",
     "output_type": "stream",
     "text": [
      "Error: Invalid location: \n"
     ]
    },
    {
     "name": "stdin",
     "output_type": "stream",
     "text": [
      "Add another user? (yes/no):  yes\n",
      "Enter user name:  samah\n",
      "Enter current time (e.g. 03:00 PM):  03:00 PM\n",
      "Enter meeting time (e.g. 03:30 PM):  03:20 PM\n",
      "Enter user location:  Diarb Negm\n",
      "Enter meeting location:  zagazig University\n"
     ]
    },
    {
     "name": "stdout",
     "output_type": "stream",
     "text": [
      "samah: delay (2 minutes late)\n"
     ]
    },
    {
     "name": "stdin",
     "output_type": "stream",
     "text": [
      "Add another user? (yes/no):  yes\n",
      "Enter user name:  samah\n",
      "Enter current time (e.g. 03:00 PM):  03:00 PM\n",
      "Enter meeting time (e.g. 03:30 PM):  03:30 PM\n",
      "Enter user location:  Diarb Negm\n",
      "Enter meeting location:  zagazig\n"
     ]
    },
    {
     "name": "stdout",
     "output_type": "stream",
     "text": [
      "samah: on time\n"
     ]
    }
   ],
   "source": [
    "import openrouteservice\n",
    "from geopy.geocoders import Nominatim\n",
    "from datetime import datetime, date, timedelta\n",
    "\n",
    "ORS_API_KEY = \"5b3ce3597851110001cf624838ed54901e044a6aa4d688103f2b9208\"\n",
    "client = openrouteservice.Client(key=ORS_API_KEY)\n",
    "geolocator = Nominatim(user_agent=\"meeting-app\")\n",
    "today = date.today()\n",
    "\n",
    "def get_coordinates(place):\n",
    "    location = geolocator.geocode(place, timeout=10)\n",
    "    if location:\n",
    "        return (location.longitude, location.latitude)\n",
    "    else:\n",
    "        raise Exception(f\"Invalid location: {place}\")\n",
    "\n",
    "def get_travel_time(user_coords, meeting_coords, mode=\"driving-car\"):\n",
    "    route = client.directions(\n",
    "        coordinates=[user_coords, meeting_coords],\n",
    "        profile=mode,\n",
    "        format='json'\n",
    "    )\n",
    "    duration_sec = route['routes'][0]['summary']['duration']\n",
    "    return duration_sec / 60  # return in minutes\n",
    "\n",
    "while True:\n",
    "    try:\n",
    "        name = input(\"Enter user name: \")\n",
    "        current_time_input = input(\"Enter current time (e.g. 03:00 PM): \")\n",
    "        meeting_time_input = input(\"Enter meeting time (e.g. 03:30 PM): \")\n",
    "        user_place = input(\"Enter user location: \")\n",
    "        meeting_place = input(\"Enter meeting location: \")\n",
    "\n",
    "        current_time = datetime.combine(today, datetime.strptime(current_time_input, \"%I:%M %p\").time())\n",
    "        meeting_time = datetime.combine(today, datetime.strptime(meeting_time_input, \"%I:%M %p\").time())\n",
    "\n",
    "        user_coords = get_coordinates(user_place)\n",
    "        meeting_coords = get_coordinates(meeting_place)\n",
    "\n",
    "        travel_minutes = get_travel_time(user_coords, meeting_coords)\n",
    "        arrival_time = current_time + timedelta(minutes=travel_minutes)\n",
    "\n",
    "        if arrival_time > meeting_time:\n",
    "            delay_minutes = round((arrival_time - meeting_time).total_seconds() / 60)\n",
    "            print(f\"{name}: delay ({delay_minutes} minutes late)\")\n",
    "        else:\n",
    "            print(f\"{name}: on time\")\n",
    "\n",
    "    except Exception as e:\n",
    "        print(f\"Error: {e}\")\n",
    "\n",
    "    again = input(\"Add another user? (yes/no): \").strip().lower()\n",
    "    if again != \"yes\":\n",
    "        break"
   ]
  },
  {
   "cell_type": "code",
   "execution_count": null,
   "id": "674215a3-f343-486c-b939-e344e1f5e450",
   "metadata": {},
   "outputs": [],
   "source": []
  }
 ],
 "metadata": {
  "kernelspec": {
   "display_name": "Python 3 (ipykernel)",
   "language": "python",
   "name": "python3"
  },
  "language_info": {
   "codemirror_mode": {
    "name": "ipython",
    "version": 3
   },
   "file_extension": ".py",
   "mimetype": "text/x-python",
   "name": "python",
   "nbconvert_exporter": "python",
   "pygments_lexer": "ipython3",
   "version": "3.12.4"
  }
 },
 "nbformat": 4,
 "nbformat_minor": 5
}
